{
 "cells": [
  {
   "cell_type": "code",
   "execution_count": 4,
   "id": "a4d397e2",
   "metadata": {},
   "outputs": [],
   "source": [
    "import pandas as pd\n",
    "data=pd.read_csv(\"rainy_months_with_holidays.csv\")\n",
    "data.head()\n",
    "\n",
    "X=data[[\"precipitation_sum\",\"rain_sum\",\"temperature_max\",\"temperature_min\"]]\n",
    "y=data[\"Holiday\"]"
   ]
  },
  {
   "cell_type": "code",
   "execution_count": 5,
   "id": "1d7dc997",
   "metadata": {},
   "outputs": [
    {
     "name": "stdout",
     "output_type": "stream",
     "text": [
      "[0 0 0 0 0 0 0 0 0 0 0 0 0 0 0 0 0 0 0 0 0 0 0 0 0 0 0 0 0 0 0 0 0 0 0 0 0\n",
      " 0 0 0 0 0 0 0 0 0 0 0 0 0 0 0 0 0 0 0 0 0 0 0 0 1 0 0 0 0 0 0 0 1 0 0 0 0\n",
      " 0 0 0 0 0 0 0 0 0 0 0 0 0 0 0 1 0 0 0 0 0 0 0 0 0 0 0 0 0 0 0 0 0 0 0 0 0\n",
      " 0 0 0 0 0 0 0 0 0 0 0 0 0 0 0 0 0 0 0 0 0 0 0 0 0 0 0 0 0 0 0 0 0 0 0 0 0\n",
      " 0 0 0 0 0 0 1 1 0 0 0 0 0 0 0 0 0 0 0 0 0 0 0 0 0 0 0 0 0 0 0 0 1 0 1 1 0\n",
      " 0 0 0 0 0 0 0 0 0 0 0 0 0 0 0 0 0 0 0 0 0 0 0 0 0 0 0 0 0 0 0 0 0 0 0 0 0\n",
      " 0 0 0 0 0 0 0 0 0 0 0 0 0 0 0 0 0 0 0 0 0 0 0 0 0 0 0 0 0 0 0 0 0 0 0 0 0\n",
      " 0 0 0 0 0 0 0 0 0 0 1 0 0 0 0 0 0 0 0 0 0 0 0 0 0 0 0 0 1 0 0 0 0 0 0 0 0\n",
      " 0 0 0 0 0 1 1 1 1 1 0 0 0 0 0 0 0 0 0 0 0 0 0 0 0 0 0 0 0 0 0 0 0 0 0 0 0\n",
      " 0 0 0 0 0 0 0 0 0 0 0 0 0 0 0 0 0 0 0 0 0 0 0 0 0 0 0 0 0 0 0 0 0 0 0 0 0\n",
      " 0 0 0 0 0 0 0 0 0 1 0 1 0 0 0 0 0 0 1 0 1 1 0 0 0 0 0 0 0 0 0 0 0 0 0 0 0\n",
      " 0 0 0 1 0 0 1 0 0 0 0 0 0 1 0 0 0 0 0 0 0 0 0 1 1]\n"
     ]
    },
    {
     "data": {
      "application/vnd.microsoft.datawrangler.viewer.v0+json": {
       "columns": [
        {
         "name": "index",
         "rawType": "int64",
         "type": "integer"
        },
        {
         "name": "precipitation_sum",
         "rawType": "float64",
         "type": "float"
        },
        {
         "name": "rain_sum",
         "rawType": "float64",
         "type": "float"
        },
        {
         "name": "temperature_max",
         "rawType": "float64",
         "type": "float"
        },
        {
         "name": "temperature_min",
         "rawType": "float64",
         "type": "float"
        }
       ],
       "ref": "1e82731c-7f92-4c64-abf8-2d96a84c2daf",
       "rows": [
        [
         "0",
         "9.6",
         "9.6",
         "28.9",
         "23.7"
        ],
        [
         "1",
         "8.6",
         "8.6",
         "29.5",
         "24.0"
        ],
        [
         "2",
         "5.3",
         "5.3",
         "30.4",
         "23.2"
        ],
        [
         "3",
         "9.4",
         "9.4",
         "30.1",
         "25.1"
        ],
        [
         "4",
         "10.4",
         "10.4",
         "29.9",
         "23.7"
        ]
       ],
       "shape": {
        "columns": 4,
        "rows": 5
       }
      },
      "text/html": [
       "<div>\n",
       "<style scoped>\n",
       "    .dataframe tbody tr th:only-of-type {\n",
       "        vertical-align: middle;\n",
       "    }\n",
       "\n",
       "    .dataframe tbody tr th {\n",
       "        vertical-align: top;\n",
       "    }\n",
       "\n",
       "    .dataframe thead th {\n",
       "        text-align: right;\n",
       "    }\n",
       "</style>\n",
       "<table border=\"1\" class=\"dataframe\">\n",
       "  <thead>\n",
       "    <tr style=\"text-align: right;\">\n",
       "      <th></th>\n",
       "      <th>precipitation_sum</th>\n",
       "      <th>rain_sum</th>\n",
       "      <th>temperature_max</th>\n",
       "      <th>temperature_min</th>\n",
       "    </tr>\n",
       "  </thead>\n",
       "  <tbody>\n",
       "    <tr>\n",
       "      <th>0</th>\n",
       "      <td>9.6</td>\n",
       "      <td>9.6</td>\n",
       "      <td>28.9</td>\n",
       "      <td>23.7</td>\n",
       "    </tr>\n",
       "    <tr>\n",
       "      <th>1</th>\n",
       "      <td>8.6</td>\n",
       "      <td>8.6</td>\n",
       "      <td>29.5</td>\n",
       "      <td>24.0</td>\n",
       "    </tr>\n",
       "    <tr>\n",
       "      <th>2</th>\n",
       "      <td>5.3</td>\n",
       "      <td>5.3</td>\n",
       "      <td>30.4</td>\n",
       "      <td>23.2</td>\n",
       "    </tr>\n",
       "    <tr>\n",
       "      <th>3</th>\n",
       "      <td>9.4</td>\n",
       "      <td>9.4</td>\n",
       "      <td>30.1</td>\n",
       "      <td>25.1</td>\n",
       "    </tr>\n",
       "    <tr>\n",
       "      <th>4</th>\n",
       "      <td>10.4</td>\n",
       "      <td>10.4</td>\n",
       "      <td>29.9</td>\n",
       "      <td>23.7</td>\n",
       "    </tr>\n",
       "  </tbody>\n",
       "</table>\n",
       "</div>"
      ],
      "text/plain": [
       "   precipitation_sum  rain_sum  temperature_max  temperature_min\n",
       "0                9.6       9.6             28.9             23.7\n",
       "1                8.6       8.6             29.5             24.0\n",
       "2                5.3       5.3             30.4             23.2\n",
       "3                9.4       9.4             30.1             25.1\n",
       "4               10.4      10.4             29.9             23.7"
      ]
     },
     "execution_count": 5,
     "metadata": {},
     "output_type": "execute_result"
    }
   ],
   "source": [
    "from sklearn.preprocessing import LabelEncoder\n",
    "le = LabelEncoder()\n",
    "y = le.fit_transform(y)\n",
    "print(y)\n",
    "X.head()"
   ]
  },
  {
   "cell_type": "code",
   "execution_count": 7,
   "id": "c85855bf",
   "metadata": {},
   "outputs": [
    {
     "name": "stdout",
     "output_type": "stream",
     "text": [
      "[0]\tvalidation_0-logloss:0.19467\tvalidation_1-logloss:0.27655\n",
      "[1]\tvalidation_0-logloss:0.18689\tvalidation_1-logloss:0.26884\n",
      "[2]\tvalidation_0-logloss:0.18075\tvalidation_1-logloss:0.26333\n",
      "[3]\tvalidation_0-logloss:0.17556\tvalidation_1-logloss:0.26159\n",
      "[4]\tvalidation_0-logloss:0.17126\tvalidation_1-logloss:0.26000\n",
      "[5]\tvalidation_0-logloss:0.16646\tvalidation_1-logloss:0.25643\n",
      "[6]\tvalidation_0-logloss:0.16155\tvalidation_1-logloss:0.25681\n",
      "[7]\tvalidation_0-logloss:0.15815\tvalidation_1-logloss:0.25646\n",
      "[8]\tvalidation_0-logloss:0.15452\tvalidation_1-logloss:0.25658\n",
      "[9]\tvalidation_0-logloss:0.15131\tvalidation_1-logloss:0.25507\n",
      "[10]\tvalidation_0-logloss:0.14856\tvalidation_1-logloss:0.25550\n",
      "[11]\tvalidation_0-logloss:0.14529\tvalidation_1-logloss:0.25671\n",
      "[12]\tvalidation_0-logloss:0.14297\tvalidation_1-logloss:0.25670\n",
      "[13]\tvalidation_0-logloss:0.14009\tvalidation_1-logloss:0.25496\n"
     ]
    },
    {
     "name": "stdout",
     "output_type": "stream",
     "text": [
      "[14]\tvalidation_0-logloss:0.13763\tvalidation_1-logloss:0.25577\n",
      "[15]\tvalidation_0-logloss:0.13513\tvalidation_1-logloss:0.25426\n",
      "[16]\tvalidation_0-logloss:0.13293\tvalidation_1-logloss:0.25355\n",
      "[17]\tvalidation_0-logloss:0.13096\tvalidation_1-logloss:0.25246\n",
      "[18]\tvalidation_0-logloss:0.12873\tvalidation_1-logloss:0.25380\n",
      "[19]\tvalidation_0-logloss:0.12703\tvalidation_1-logloss:0.25334\n",
      "[20]\tvalidation_0-logloss:0.12557\tvalidation_1-logloss:0.25307\n",
      "[21]\tvalidation_0-logloss:0.12429\tvalidation_1-logloss:0.25268\n",
      "[22]\tvalidation_0-logloss:0.12296\tvalidation_1-logloss:0.25283\n",
      "[23]\tvalidation_0-logloss:0.12145\tvalidation_1-logloss:0.25265\n",
      "[24]\tvalidation_0-logloss:0.12042\tvalidation_1-logloss:0.25312\n",
      "[25]\tvalidation_0-logloss:0.11963\tvalidation_1-logloss:0.25363\n",
      "[26]\tvalidation_0-logloss:0.11813\tvalidation_1-logloss:0.25493\n",
      "[27]\tvalidation_0-logloss:0.11706\tvalidation_1-logloss:0.25496\n",
      "[28]\tvalidation_0-logloss:0.11596\tvalidation_1-logloss:0.25471\n",
      "[29]\tvalidation_0-logloss:0.11518\tvalidation_1-logloss:0.25572\n",
      "[30]\tvalidation_0-logloss:0.11414\tvalidation_1-logloss:0.25626\n",
      "[31]\tvalidation_0-logloss:0.11351\tvalidation_1-logloss:0.25682\n",
      "[32]\tvalidation_0-logloss:0.11198\tvalidation_1-logloss:0.25770\n",
      "[33]\tvalidation_0-logloss:0.11065\tvalidation_1-logloss:0.25963\n",
      "[34]\tvalidation_0-logloss:0.10935\tvalidation_1-logloss:0.25938\n",
      "[35]\tvalidation_0-logloss:0.10824\tvalidation_1-logloss:0.25962\n",
      "[36]\tvalidation_0-logloss:0.10706\tvalidation_1-logloss:0.25931\n",
      "[37]\tvalidation_0-logloss:0.10619\tvalidation_1-logloss:0.25979\n",
      "[38]\tvalidation_0-logloss:0.10511\tvalidation_1-logloss:0.26154\n",
      "[39]\tvalidation_0-logloss:0.10408\tvalidation_1-logloss:0.26093\n",
      "[40]\tvalidation_0-logloss:0.10324\tvalidation_1-logloss:0.26140\n",
      "[41]\tvalidation_0-logloss:0.10230\tvalidation_1-logloss:0.26097\n",
      "[42]\tvalidation_0-logloss:0.10147\tvalidation_1-logloss:0.26126\n",
      "[43]\tvalidation_0-logloss:0.10061\tvalidation_1-logloss:0.26275\n",
      "[44]\tvalidation_0-logloss:0.09977\tvalidation_1-logloss:0.26251\n",
      "[45]\tvalidation_0-logloss:0.09873\tvalidation_1-logloss:0.26274\n",
      "[46]\tvalidation_0-logloss:0.09769\tvalidation_1-logloss:0.26218\n",
      "[47]\tvalidation_0-logloss:0.09694\tvalidation_1-logloss:0.26274\n",
      "[48]\tvalidation_0-logloss:0.09620\tvalidation_1-logloss:0.26447\n",
      "[49]\tvalidation_0-logloss:0.09568\tvalidation_1-logloss:0.26475\n",
      "[50]\tvalidation_0-logloss:0.09520\tvalidation_1-logloss:0.26587\n",
      "[51]\tvalidation_0-logloss:0.09441\tvalidation_1-logloss:0.26611\n",
      "[52]\tvalidation_0-logloss:0.09355\tvalidation_1-logloss:0.26606\n",
      "[53]\tvalidation_0-logloss:0.09276\tvalidation_1-logloss:0.26587\n",
      "[54]\tvalidation_0-logloss:0.09174\tvalidation_1-logloss:0.26607\n",
      "[55]\tvalidation_0-logloss:0.09112\tvalidation_1-logloss:0.26627\n",
      "[56]\tvalidation_0-logloss:0.09043\tvalidation_1-logloss:0.26665\n",
      "[57]\tvalidation_0-logloss:0.08971\tvalidation_1-logloss:0.26654\n",
      "[58]\tvalidation_0-logloss:0.08896\tvalidation_1-logloss:0.26596\n",
      "[59]\tvalidation_0-logloss:0.08826\tvalidation_1-logloss:0.26567\n",
      "[60]\tvalidation_0-logloss:0.08734\tvalidation_1-logloss:0.26541\n",
      "[61]\tvalidation_0-logloss:0.08680\tvalidation_1-logloss:0.26685\n",
      "[62]\tvalidation_0-logloss:0.08615\tvalidation_1-logloss:0.26657\n",
      "[63]\tvalidation_0-logloss:0.08528\tvalidation_1-logloss:0.26779\n",
      "[64]\tvalidation_0-logloss:0.08465\tvalidation_1-logloss:0.26754\n",
      "[65]\tvalidation_0-logloss:0.08403\tvalidation_1-logloss:0.26753\n",
      "[66]\tvalidation_0-logloss:0.08319\tvalidation_1-logloss:0.26741\n",
      "[67]\tvalidation_0-logloss:0.08245\tvalidation_1-logloss:0.26868\n",
      "[68]\tvalidation_0-logloss:0.08183\tvalidation_1-logloss:0.26842\n",
      "[69]\tvalidation_0-logloss:0.08123\tvalidation_1-logloss:0.26801\n",
      "[70]\tvalidation_0-logloss:0.08065\tvalidation_1-logloss:0.26731\n",
      "[71]\tvalidation_0-logloss:0.08009\tvalidation_1-logloss:0.26696\n",
      "[72]\tvalidation_0-logloss:0.07957\tvalidation_1-logloss:0.26680\n",
      "[73]\tvalidation_0-logloss:0.07909\tvalidation_1-logloss:0.26690\n",
      "[74]\tvalidation_0-logloss:0.07862\tvalidation_1-logloss:0.26740\n",
      "[75]\tvalidation_0-logloss:0.07801\tvalidation_1-logloss:0.26819\n",
      "[76]\tvalidation_0-logloss:0.07728\tvalidation_1-logloss:0.26894\n",
      "[77]\tvalidation_0-logloss:0.07659\tvalidation_1-logloss:0.26891\n",
      "[78]\tvalidation_0-logloss:0.07609\tvalidation_1-logloss:0.26901\n",
      "[79]\tvalidation_0-logloss:0.07546\tvalidation_1-logloss:0.26857\n",
      "[80]\tvalidation_0-logloss:0.07507\tvalidation_1-logloss:0.26902\n",
      "[81]\tvalidation_0-logloss:0.07431\tvalidation_1-logloss:0.26907\n",
      "[82]\tvalidation_0-logloss:0.07387\tvalidation_1-logloss:0.27051\n",
      "[83]\tvalidation_0-logloss:0.07334\tvalidation_1-logloss:0.27011\n",
      "[84]\tvalidation_0-logloss:0.07280\tvalidation_1-logloss:0.27086\n",
      "[85]\tvalidation_0-logloss:0.07255\tvalidation_1-logloss:0.27197\n",
      "[86]\tvalidation_0-logloss:0.07199\tvalidation_1-logloss:0.27252\n",
      "[87]\tvalidation_0-logloss:0.07149\tvalidation_1-logloss:0.27215\n",
      "[88]\tvalidation_0-logloss:0.07114\tvalidation_1-logloss:0.27338\n",
      "[89]\tvalidation_0-logloss:0.07068\tvalidation_1-logloss:0.27305\n",
      "[90]\tvalidation_0-logloss:0.07016\tvalidation_1-logloss:0.27389\n",
      "[91]\tvalidation_0-logloss:0.06974\tvalidation_1-logloss:0.27357\n",
      "[92]\tvalidation_0-logloss:0.06939\tvalidation_1-logloss:0.27515\n",
      "[93]\tvalidation_0-logloss:0.06900\tvalidation_1-logloss:0.27503\n",
      "[94]\tvalidation_0-logloss:0.06864\tvalidation_1-logloss:0.27639\n",
      "[95]\tvalidation_0-logloss:0.06827\tvalidation_1-logloss:0.27610\n",
      "[96]\tvalidation_0-logloss:0.06787\tvalidation_1-logloss:0.27715\n",
      "[97]\tvalidation_0-logloss:0.06755\tvalidation_1-logloss:0.27706\n",
      "[98]\tvalidation_0-logloss:0.06732\tvalidation_1-logloss:0.27791\n",
      "[99]\tvalidation_0-logloss:0.06700\tvalidation_1-logloss:0.27942\n",
      "Validation Accuracy: 0.896551724137931\n"
     ]
    }
   ],
   "source": [
    "from xgboost import XGBClassifier\n",
    "from sklearn.model_selection import train_test_split\n",
    "from sklearn.metrics import accuracy_score\n",
    "\n",
    "X_train, X_val, y_train, y_val = train_test_split(\n",
    "    X, y, test_size=0.2, random_state=42\n",
    ")\n",
    "\n",
    "model = XGBClassifier(\n",
    "    n_estimators=100,\n",
    "    learning_rate=0.1,\n",
    "    max_depth=4,\n",
    "    eval_metric=\"logloss\",\n",
    "    random_state=42\n",
    ")\n",
    "\n",
    "model.fit(\n",
    "    X_train, y_train,\n",
    "    eval_set=[(X_train, y_train), (X_val, y_val)],\n",
    "    verbose=True\n",
    ")\n",
    "\n",
    "y_pred = model.predict(X_val)\n",
    "print(\"Validation Accuracy:\", accuracy_score(y_val, y_pred))"
   ]
  },
  {
   "cell_type": "code",
   "execution_count": 8,
   "id": "7362f265",
   "metadata": {},
   "outputs": [
    {
     "data": {
      "text/plain": [
       "['holiday_predictor2.pkl']"
      ]
     },
     "execution_count": 8,
     "metadata": {},
     "output_type": "execute_result"
    }
   ],
   "source": [
    "import joblib\n",
    "joblib.dump(model, \"holiday_predictor2.pkl\")\n"
   ]
  },
  {
   "cell_type": "code",
   "execution_count": null,
   "id": "67302f51",
   "metadata": {},
   "outputs": [],
   "source": []
  }
 ],
 "metadata": {
  "kernelspec": {
   "display_name": "Python 3",
   "language": "python",
   "name": "python3"
  },
  "language_info": {
   "codemirror_mode": {
    "name": "ipython",
    "version": 3
   },
   "file_extension": ".py",
   "mimetype": "text/x-python",
   "name": "python",
   "nbconvert_exporter": "python",
   "pygments_lexer": "ipython3",
   "version": "3.12.10"
  }
 },
 "nbformat": 4,
 "nbformat_minor": 5
}
